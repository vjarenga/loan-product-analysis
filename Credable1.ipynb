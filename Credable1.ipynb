{
 "cells": [
  {
   "cell_type": "code",
   "execution_count": 3,
   "id": "0f68a304-4cef-4c39-966e-f3d6f774206f",
   "metadata": {},
   "outputs": [
    {
     "name": "stdout",
     "output_type": "stream",
     "text": [
      "Note: you may need to restart the kernel to use updated packages.\n"
     ]
    },
    {
     "name": "stderr",
     "output_type": "stream",
     "text": [
      "The system cannot find the file specified.\n"
     ]
    }
   ],
   "source": [
    "pip install numpy<2"
   ]
  },
  {
   "cell_type": "code",
   "execution_count": 4,
   "id": "5c9436d2-e1c9-48f9-920d-92a3dee69b00",
   "metadata": {},
   "outputs": [
    {
     "name": "stdout",
     "output_type": "stream",
     "text": [
      "Requirement already satisfied: numpy<2 in c:\\users\\user\\anaconda3\\lib\\site-packages (1.26.4)\n",
      "Note: you may need to restart the kernel to use updated packages.\n"
     ]
    },
    {
     "name": "stderr",
     "output_type": "stream",
     "text": [
      "\n",
      "[notice] A new release of pip is available: 24.2 -> 25.0.1\n",
      "[notice] To update, run: python.exe -m pip install --upgrade pip\n"
     ]
    }
   ],
   "source": [
    "pip install --upgrade \"numpy<2\""
   ]
  },
  {
   "cell_type": "code",
   "execution_count": 5,
   "id": "5fe9f665-86d6-497c-9277-049236003e22",
   "metadata": {},
   "outputs": [
    {
     "name": "stdout",
     "output_type": "stream",
     "text": [
      "Requirement already satisfied: numexpr in c:\\users\\user\\anaconda3\\lib\\site-packages (2.10.2)\n",
      "Requirement already satisfied: bottleneck in c:\\users\\user\\anaconda3\\lib\\site-packages (1.4.2)\n",
      "Requirement already satisfied: numpy>=1.23.0 in c:\\users\\user\\anaconda3\\lib\\site-packages (from numexpr) (1.26.4)\n",
      "Note: you may need to restart the kernel to use updated packages.\n"
     ]
    },
    {
     "name": "stderr",
     "output_type": "stream",
     "text": [
      "\n",
      "[notice] A new release of pip is available: 24.2 -> 25.0.1\n",
      "[notice] To update, run: python.exe -m pip install --upgrade pip\n"
     ]
    }
   ],
   "source": [
    "pip install --upgrade numexpr bottleneck"
   ]
  },
  {
   "cell_type": "code",
   "execution_count": 6,
   "id": "0931aa72-0754-46b5-b111-11a5606c920c",
   "metadata": {},
   "outputs": [],
   "source": [
    "import pandas as pd\n",
    "import matplotlib.pyplot as plt\n",
    "import seaborn as sns"
   ]
  },
  {
   "cell_type": "code",
   "execution_count": 7,
   "id": "25399268-1032-4360-9a0c-029d5d2f7005",
   "metadata": {},
   "outputs": [],
   "source": [
    "file_path ='BI_Analyst_Case_Study_Data.xlsx'\n",
    "# Read the first sheet\n",
    "Disbursements = pd.read_excel(file_path, sheet_name=0)\n",
    "# Read the second sheet\n",
    "Repayments = pd.read_excel(file_path, sheet_name=1)\n"
   ]
  },
  {
   "cell_type": "code",
   "execution_count": 8,
   "id": "8119d471-afcd-4181-932d-fb273447cda0",
   "metadata": {},
   "outputs": [
    {
     "name": "stdout",
     "output_type": "stream",
     "text": [
      "Sheet 1:\n"
     ]
    },
    {
     "data": {
      "text/html": [
       "<div>\n",
       "<style scoped>\n",
       "    .dataframe tbody tr th:only-of-type {\n",
       "        vertical-align: middle;\n",
       "    }\n",
       "\n",
       "    .dataframe tbody tr th {\n",
       "        vertical-align: top;\n",
       "    }\n",
       "\n",
       "    .dataframe thead th {\n",
       "        text-align: right;\n",
       "    }\n",
       "</style>\n",
       "<table border=\"1\" class=\"dataframe\">\n",
       "  <thead>\n",
       "    <tr style=\"text-align: right;\">\n",
       "      <th></th>\n",
       "      <th>customer_id</th>\n",
       "      <th>disb_date</th>\n",
       "      <th>tenure</th>\n",
       "      <th>account_num</th>\n",
       "      <th>loan_amount</th>\n",
       "      <th>loan_fee</th>\n",
       "    </tr>\n",
       "  </thead>\n",
       "  <tbody>\n",
       "    <tr>\n",
       "      <th>0</th>\n",
       "      <td>91810ca1aa097db79f050f38e9946fa5482b4e28c925e2...</td>\n",
       "      <td>2024-03-19</td>\n",
       "      <td>14 days</td>\n",
       "      <td>3O66YENWELA6E2H1R9YLX0LDZNOMNHD4</td>\n",
       "      <td>360</td>\n",
       "      <td>43.2</td>\n",
       "    </tr>\n",
       "    <tr>\n",
       "      <th>1</th>\n",
       "      <td>42ca06e6fe1ff9803e82a5c20184671b54090e488f78d6...</td>\n",
       "      <td>2024-03-19</td>\n",
       "      <td>7 days</td>\n",
       "      <td>6XWHXKKR1W2HIA8I0V75PZFZBXUUGSVO</td>\n",
       "      <td>70</td>\n",
       "      <td>7.0</td>\n",
       "    </tr>\n",
       "    <tr>\n",
       "      <th>2</th>\n",
       "      <td>b23747f53af805e18ad16a4ef235b6642d88f9134644ff...</td>\n",
       "      <td>2024-03-19</td>\n",
       "      <td>7 days</td>\n",
       "      <td>OCGK3RJZ91A999VXD4VB3LATPSME3J5L</td>\n",
       "      <td>3500</td>\n",
       "      <td>350.0</td>\n",
       "    </tr>\n",
       "    <tr>\n",
       "      <th>3</th>\n",
       "      <td>1bd32f9b083fc6ddfffd65730fbfa66654fa76a19b0b0e...</td>\n",
       "      <td>2024-03-19</td>\n",
       "      <td>14 days</td>\n",
       "      <td>9X3Q682DOR7927IMMJLFHBGP0RP7YF5C</td>\n",
       "      <td>3500</td>\n",
       "      <td>420.0</td>\n",
       "    </tr>\n",
       "    <tr>\n",
       "      <th>4</th>\n",
       "      <td>e7cfbaa97ba7702c52df5f1dddba54bd26923ebad945f1...</td>\n",
       "      <td>2024-03-19</td>\n",
       "      <td>7 days</td>\n",
       "      <td>AQH88NNF8S76MGJL4J4ULEAE18O0KLWH</td>\n",
       "      <td>120</td>\n",
       "      <td>12.0</td>\n",
       "    </tr>\n",
       "  </tbody>\n",
       "</table>\n",
       "</div>"
      ],
      "text/plain": [
       "                                         customer_id  disb_date   tenure  \\\n",
       "0  91810ca1aa097db79f050f38e9946fa5482b4e28c925e2... 2024-03-19  14 days   \n",
       "1  42ca06e6fe1ff9803e82a5c20184671b54090e488f78d6... 2024-03-19   7 days   \n",
       "2  b23747f53af805e18ad16a4ef235b6642d88f9134644ff... 2024-03-19   7 days   \n",
       "3  1bd32f9b083fc6ddfffd65730fbfa66654fa76a19b0b0e... 2024-03-19  14 days   \n",
       "4  e7cfbaa97ba7702c52df5f1dddba54bd26923ebad945f1... 2024-03-19   7 days   \n",
       "\n",
       "                        account_num  loan_amount  loan_fee  \n",
       "0  3O66YENWELA6E2H1R9YLX0LDZNOMNHD4          360      43.2  \n",
       "1  6XWHXKKR1W2HIA8I0V75PZFZBXUUGSVO           70       7.0  \n",
       "2  OCGK3RJZ91A999VXD4VB3LATPSME3J5L         3500     350.0  \n",
       "3  9X3Q682DOR7927IMMJLFHBGP0RP7YF5C         3500     420.0  \n",
       "4  AQH88NNF8S76MGJL4J4ULEAE18O0KLWH          120      12.0  "
      ]
     },
     "metadata": {},
     "output_type": "display_data"
    }
   ],
   "source": [
    "print(\"Sheet 1:\")\n",
    "display(Disbursements.head())"
   ]
  },
  {
   "cell_type": "code",
   "execution_count": 9,
   "id": "783d436a-014d-4694-981b-25012a10d9c5",
   "metadata": {},
   "outputs": [
    {
     "name": "stdout",
     "output_type": "stream",
     "text": [
      "Sheet 2:\n"
     ]
    },
    {
     "data": {
      "text/html": [
       "<div>\n",
       "<style scoped>\n",
       "    .dataframe tbody tr th:only-of-type {\n",
       "        vertical-align: middle;\n",
       "    }\n",
       "\n",
       "    .dataframe tbody tr th {\n",
       "        vertical-align: top;\n",
       "    }\n",
       "\n",
       "    .dataframe thead th {\n",
       "        text-align: right;\n",
       "    }\n",
       "</style>\n",
       "<table border=\"1\" class=\"dataframe\">\n",
       "  <thead>\n",
       "    <tr style=\"text-align: right;\">\n",
       "      <th></th>\n",
       "      <th>date_time</th>\n",
       "      <th>customer_id</th>\n",
       "      <th>amount</th>\n",
       "      <th>rep_month</th>\n",
       "      <th>repayment_type</th>\n",
       "    </tr>\n",
       "  </thead>\n",
       "  <tbody>\n",
       "    <tr>\n",
       "      <th>0</th>\n",
       "      <td>27-JUN-24 07.16.36.000000000 AM</td>\n",
       "      <td>683131338d401fda38410a808797b7706bc3e364d0fe77...</td>\n",
       "      <td>500.65</td>\n",
       "      <td>202406</td>\n",
       "      <td>Automatic</td>\n",
       "    </tr>\n",
       "    <tr>\n",
       "      <th>1</th>\n",
       "      <td>27-JUN-24 05.26.50.000000000 PM</td>\n",
       "      <td>56a41251185bd205961556399289804607ccc660392837...</td>\n",
       "      <td>2833.33</td>\n",
       "      <td>202406</td>\n",
       "      <td>Automatic</td>\n",
       "    </tr>\n",
       "    <tr>\n",
       "      <th>2</th>\n",
       "      <td>27-JUN-24 06.45.40.000000000 PM</td>\n",
       "      <td>000e57e83f161e4ba6458b3e32c00815405c5a005e652b...</td>\n",
       "      <td>143.98</td>\n",
       "      <td>202406</td>\n",
       "      <td>Automatic</td>\n",
       "    </tr>\n",
       "    <tr>\n",
       "      <th>3</th>\n",
       "      <td>27-JUN-24 01.24.57.000000000 PM</td>\n",
       "      <td>f3606d5ac9a89e0251a60d7183a09bc742eba2e36882af...</td>\n",
       "      <td>1000.00</td>\n",
       "      <td>202406</td>\n",
       "      <td>Automatic</td>\n",
       "    </tr>\n",
       "    <tr>\n",
       "      <th>4</th>\n",
       "      <td>27-JUN-24 01.31.44.000000000 PM</td>\n",
       "      <td>f3606d5ac9a89e0251a60d7183a09bc742eba2e36882af...</td>\n",
       "      <td>801.00</td>\n",
       "      <td>202406</td>\n",
       "      <td>Manual</td>\n",
       "    </tr>\n",
       "  </tbody>\n",
       "</table>\n",
       "</div>"
      ],
      "text/plain": [
       "                         date_time  \\\n",
       "0  27-JUN-24 07.16.36.000000000 AM   \n",
       "1  27-JUN-24 05.26.50.000000000 PM   \n",
       "2  27-JUN-24 06.45.40.000000000 PM   \n",
       "3  27-JUN-24 01.24.57.000000000 PM   \n",
       "4  27-JUN-24 01.31.44.000000000 PM   \n",
       "\n",
       "                                         customer_id   amount  rep_month  \\\n",
       "0  683131338d401fda38410a808797b7706bc3e364d0fe77...   500.65     202406   \n",
       "1  56a41251185bd205961556399289804607ccc660392837...  2833.33     202406   \n",
       "2  000e57e83f161e4ba6458b3e32c00815405c5a005e652b...   143.98     202406   \n",
       "3  f3606d5ac9a89e0251a60d7183a09bc742eba2e36882af...  1000.00     202406   \n",
       "4  f3606d5ac9a89e0251a60d7183a09bc742eba2e36882af...   801.00     202406   \n",
       "\n",
       "  repayment_type  \n",
       "0      Automatic  \n",
       "1      Automatic  \n",
       "2      Automatic  \n",
       "3      Automatic  \n",
       "4         Manual  "
      ]
     },
     "metadata": {},
     "output_type": "display_data"
    }
   ],
   "source": [
    "print(\"Sheet 2:\")\n",
    "display(Repayments.head())"
   ]
  },
  {
   "cell_type": "code",
   "execution_count": 10,
   "id": "646eab45-7692-4e58-9aa6-783dc280015f",
   "metadata": {},
   "outputs": [
    {
     "name": "stdout",
     "output_type": "stream",
     "text": [
      "date_time         0\n",
      "customer_id       0\n",
      "amount            0\n",
      "rep_month         0\n",
      "repayment_type    0\n",
      "dtype: int64\n"
     ]
    }
   ],
   "source": [
    "# Check for missing values in the repayments sheet\n",
    "print(Repayments.isnull().sum())"
   ]
  },
  {
   "cell_type": "code",
   "execution_count": 11,
   "id": "aeaa6fd0-d34f-4363-a78f-58efc94c2c51",
   "metadata": {},
   "outputs": [
    {
     "name": "stdout",
     "output_type": "stream",
     "text": [
      "customer_id    0\n",
      "disb_date      0\n",
      "tenure         0\n",
      "account_num    0\n",
      "loan_amount    0\n",
      "loan_fee       0\n",
      "dtype: int64\n"
     ]
    }
   ],
   "source": [
    "# Check for missing values in Disbursements sheet\n",
    "print(Disbursements.isnull().sum())"
   ]
  },
  {
   "cell_type": "code",
   "execution_count": 12,
   "id": "2323ae34-3735-4338-906b-1dd02bc93ade",
   "metadata": {},
   "outputs": [
    {
     "data": {
      "text/plain": [
       "customer_id            object\n",
       "disb_date      datetime64[ns]\n",
       "tenure                 object\n",
       "account_num            object\n",
       "loan_amount             int64\n",
       "loan_fee              float64\n",
       "dtype: object"
      ]
     },
     "execution_count": 12,
     "metadata": {},
     "output_type": "execute_result"
    }
   ],
   "source": [
    "# Display data types\n",
    "Disbursements.dtypes"
   ]
  },
  {
   "cell_type": "code",
   "execution_count": 13,
   "id": "fb9b01d8-e587-4161-a414-314438f453c5",
   "metadata": {},
   "outputs": [
    {
     "data": {
      "text/plain": [
       "date_time          object\n",
       "customer_id        object\n",
       "amount            float64\n",
       "rep_month           int64\n",
       "repayment_type     object\n",
       "dtype: object"
      ]
     },
     "execution_count": 13,
     "metadata": {},
     "output_type": "execute_result"
    }
   ],
   "source": [
    "Repayments.dtypes"
   ]
  },
  {
   "cell_type": "code",
   "execution_count": 14,
   "id": "f242a034-f1d9-4873-b706-ad7e966efed0",
   "metadata": {},
   "outputs": [
    {
     "data": {
      "text/html": [
       "<div>\n",
       "<style scoped>\n",
       "    .dataframe tbody tr th:only-of-type {\n",
       "        vertical-align: middle;\n",
       "    }\n",
       "\n",
       "    .dataframe tbody tr th {\n",
       "        vertical-align: top;\n",
       "    }\n",
       "\n",
       "    .dataframe thead th {\n",
       "        text-align: right;\n",
       "    }\n",
       "</style>\n",
       "<table border=\"1\" class=\"dataframe\">\n",
       "  <thead>\n",
       "    <tr style=\"text-align: right;\">\n",
       "      <th></th>\n",
       "      <th>disb_date</th>\n",
       "      <th>loan_amount</th>\n",
       "      <th>loan_fee</th>\n",
       "    </tr>\n",
       "  </thead>\n",
       "  <tbody>\n",
       "    <tr>\n",
       "      <th>count</th>\n",
       "      <td>26585</td>\n",
       "      <td>26585.000000</td>\n",
       "      <td>26585.000000</td>\n",
       "    </tr>\n",
       "    <tr>\n",
       "      <th>mean</th>\n",
       "      <td>2024-04-17 13:54:22.275719680</td>\n",
       "      <td>1001.021403</td>\n",
       "      <td>129.698904</td>\n",
       "    </tr>\n",
       "    <tr>\n",
       "      <th>min</th>\n",
       "      <td>2024-01-01 00:00:00</td>\n",
       "      <td>70.000000</td>\n",
       "      <td>7.000000</td>\n",
       "    </tr>\n",
       "    <tr>\n",
       "      <th>25%</th>\n",
       "      <td>2024-02-25 00:00:00</td>\n",
       "      <td>150.000000</td>\n",
       "      <td>16.800000</td>\n",
       "    </tr>\n",
       "    <tr>\n",
       "      <th>50%</th>\n",
       "      <td>2024-04-15 00:00:00</td>\n",
       "      <td>420.000000</td>\n",
       "      <td>50.000000</td>\n",
       "    </tr>\n",
       "    <tr>\n",
       "      <th>75%</th>\n",
       "      <td>2024-06-08 00:00:00</td>\n",
       "      <td>1460.000000</td>\n",
       "      <td>181.500000</td>\n",
       "    </tr>\n",
       "    <tr>\n",
       "      <th>max</th>\n",
       "      <td>2024-08-11 00:00:00</td>\n",
       "      <td>3500.000000</td>\n",
       "      <td>525.000000</td>\n",
       "    </tr>\n",
       "    <tr>\n",
       "      <th>std</th>\n",
       "      <td>NaN</td>\n",
       "      <td>1171.233304</td>\n",
       "      <td>160.836971</td>\n",
       "    </tr>\n",
       "  </tbody>\n",
       "</table>\n",
       "</div>"
      ],
      "text/plain": [
       "                           disb_date   loan_amount      loan_fee\n",
       "count                          26585  26585.000000  26585.000000\n",
       "mean   2024-04-17 13:54:22.275719680   1001.021403    129.698904\n",
       "min              2024-01-01 00:00:00     70.000000      7.000000\n",
       "25%              2024-02-25 00:00:00    150.000000     16.800000\n",
       "50%              2024-04-15 00:00:00    420.000000     50.000000\n",
       "75%              2024-06-08 00:00:00   1460.000000    181.500000\n",
       "max              2024-08-11 00:00:00   3500.000000    525.000000\n",
       "std                              NaN   1171.233304    160.836971"
      ]
     },
     "execution_count": 14,
     "metadata": {},
     "output_type": "execute_result"
    }
   ],
   "source": [
    "Disbursements.describe()"
   ]
  },
  {
   "cell_type": "code",
   "execution_count": 15,
   "id": "37461ff9-1491-4583-9d77-90195fea8cde",
   "metadata": {},
   "outputs": [
    {
     "data": {
      "text/html": [
       "<div>\n",
       "<style scoped>\n",
       "    .dataframe tbody tr th:only-of-type {\n",
       "        vertical-align: middle;\n",
       "    }\n",
       "\n",
       "    .dataframe tbody tr th {\n",
       "        vertical-align: top;\n",
       "    }\n",
       "\n",
       "    .dataframe thead th {\n",
       "        text-align: right;\n",
       "    }\n",
       "</style>\n",
       "<table border=\"1\" class=\"dataframe\">\n",
       "  <thead>\n",
       "    <tr style=\"text-align: right;\">\n",
       "      <th></th>\n",
       "      <th>amount</th>\n",
       "      <th>rep_month</th>\n",
       "    </tr>\n",
       "  </thead>\n",
       "  <tbody>\n",
       "    <tr>\n",
       "      <th>count</th>\n",
       "      <td>66016.000000</td>\n",
       "      <td>66016.000000</td>\n",
       "    </tr>\n",
       "    <tr>\n",
       "      <th>mean</th>\n",
       "      <td>462.056628</td>\n",
       "      <td>202404.374697</td>\n",
       "    </tr>\n",
       "    <tr>\n",
       "      <th>std</th>\n",
       "      <td>838.108424</td>\n",
       "      <td>2.179937</td>\n",
       "    </tr>\n",
       "    <tr>\n",
       "      <th>min</th>\n",
       "      <td>0.010000</td>\n",
       "      <td>202401.000000</td>\n",
       "    </tr>\n",
       "    <tr>\n",
       "      <th>25%</th>\n",
       "      <td>22.440000</td>\n",
       "      <td>202403.000000</td>\n",
       "    </tr>\n",
       "    <tr>\n",
       "      <th>50%</th>\n",
       "      <td>110.565000</td>\n",
       "      <td>202404.000000</td>\n",
       "    </tr>\n",
       "    <tr>\n",
       "      <th>75%</th>\n",
       "      <td>450.000000</td>\n",
       "      <td>202406.000000</td>\n",
       "    </tr>\n",
       "    <tr>\n",
       "      <th>max</th>\n",
       "      <td>4025.000000</td>\n",
       "      <td>202408.000000</td>\n",
       "    </tr>\n",
       "  </tbody>\n",
       "</table>\n",
       "</div>"
      ],
      "text/plain": [
       "             amount      rep_month\n",
       "count  66016.000000   66016.000000\n",
       "mean     462.056628  202404.374697\n",
       "std      838.108424       2.179937\n",
       "min        0.010000  202401.000000\n",
       "25%       22.440000  202403.000000\n",
       "50%      110.565000  202404.000000\n",
       "75%      450.000000  202406.000000\n",
       "max     4025.000000  202408.000000"
      ]
     },
     "execution_count": 15,
     "metadata": {},
     "output_type": "execute_result"
    }
   ],
   "source": [
    "Repayments.describe()"
   ]
  },
  {
   "cell_type": "code",
   "execution_count": 17,
   "id": "d10ff17e-190e-461b-996b-2fcba24b8a3a",
   "metadata": {},
   "outputs": [
    {
     "data": {
      "image/png": "[encoded data removed]",
      "text/plain": [
       "<Figure size 1000x500 with 1 Axes>"
      ]
     },
     "metadata": {},
     "output_type": "display_data"
    }
   ],
   "source": [
    "import matplotlib.pyplot as plt\n",
    "import seaborn as sns\n",
    "\n",
    "# Boxplot for Loan Amount Outliers\n",
    "plt.figure(figsize=(10, 5))\n",
    "sns.boxplot(x=Disbursements[\"loan_amount\"])\n",
    "plt.title(\"Outliers in Loan Amount\")\n",
    "plt.show()"
   ]
  },
  {
   "cell_type": "code",
   "execution_count": 19,
   "id": "3dd65c9d-d143-413c-8101-03292ff6344e",
   "metadata": {},
   "outputs": [
    {
     "data": {
      "image/png": "[encoded data removed]",
      "text/plain": [
       "<Figure size 1000x500 with 1 Axes>"
      ]
     },
     "metadata": {},
     "output_type": "display_data"
    }
   ],
   "source": [
    "# Boxplot for Repayment Amount Outliers\n",
    "plt.figure(figsize=(10, 5))\n",
    "sns.boxplot(x=Repayments[\"amount\"])\n",
    "plt.title(\"Outliers in Repayment Amount\")\n",
    "plt.show()"
   ]
  },
  {
   "cell_type": "code",
   "execution_count": 21,
   "id": "6dc17fbf-85a1-4150-b675-5d5cf7efc5e6",
   "metadata": {},
   "outputs": [
    {
     "name": "stdout",
     "output_type": "stream",
     "text": [
      "Total number of rows: 26585\n"
     ]
    }
   ],
   "source": [
    "total_rows = Disbursements.shape[0]\n",
    "\n",
    "print(f\"Total number of rows: {total_rows}\")"
   ]
  },
  {
   "cell_type": "code",
   "execution_count": 23,
   "id": "d30c0411-6666-4361-9cf9-03aef2c93298",
   "metadata": {},
   "outputs": [
    {
     "name": "stdout",
     "output_type": "stream",
     "text": [
      "Total number of rows: 66016\n"
     ]
    }
   ],
   "source": [
    "total_rows = Repayments.shape[0]\n",
    "\n",
    "print(f\"Total number of rows: {total_rows}\")"
   ]
  },
  {
   "cell_type": "code",
   "execution_count": null,
   "id": "48f47555-0358-408e-870d-eacb8c635bd9",
   "metadata": {},
   "outputs": [],
   "source": []
  }
 ],
 "metadata": {
  "kernelspec": {
   "display_name": "Python 3 (ipykernel)",
   "language": "python",
   "name": "python3"
  },
  "language_info": {
   "codemirror_mode": {
    "name": "ipython",
    "version": 3
   },
   "file_extension": ".py",
   "mimetype": "text/x-python",
   "name": "python",
   "nbconvert_exporter": "python",
   "pygments_lexer": "ipython3",
   "version": "3.11.7"
  }
 },
 "nbformat": 4,
 "nbformat_minor": 5
}
